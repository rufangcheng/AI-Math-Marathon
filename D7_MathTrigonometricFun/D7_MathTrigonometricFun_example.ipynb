{
 "cells": [
  {
   "cell_type": "markdown",
   "metadata": {
    "id": "nVr9-Pm_UF8N"
   },
   "source": [
    "# **三角函數程式範例程式範例**\n",
    "\n",
    "在這個程式範例，我們示範\n",
    "1.正弦(Sin())與餘弦(Cos())函數的使用 \n",
    "\n",
    "2.正切(Tan())與長邊(Hypot()) 的用法\n",
    "\n",
    "3.弧度與角度的換算\n",
    "\n",
    "首先是正弦與餘弦"
   ]
  },
  {
   "cell_type": "code",
   "execution_count": 1,
   "metadata": {
    "colab": {
     "base_uri": "https://localhost:8080/"
    },
    "executionInfo": {
     "elapsed": 6,
     "status": "ok",
     "timestamp": 1635163149156,
     "user": {
      "displayName": "Paul Chen",
      "photoUrl": "https://lh3.googleusercontent.com/a/default-user=s64",
      "userId": "15113937160468943492"
     },
     "user_tz": -480
    },
    "id": "BlHiUbt9UJ4b",
    "outputId": "8c23500c-71a8-4acd-c708-2937fa6f6f28"
   },
   "outputs": [
    {
     "name": "stdout",
     "output_type": "stream",
     "text": [
      "The value of sine of pi/6 is : 0.49999999999999994\n",
      "The value of cosine of pi/6 is : 0.8660254037844387\n"
     ]
    }
   ],
   "source": [
    "# 正弦與餘弦 Python code：sin() 和 cos()\n",
    "   \n",
    "# 載入 \"math\" 數學程式庫\n",
    "import math\n",
    "  \n",
    "a = math.pi/6\n",
    "   \n",
    "# 求  pi/6 的正弦值\n",
    "print (\"The value of sine of pi/6 is : \", end=\"\")\n",
    "print (math.sin(a))\n",
    "   \n",
    "# 求  pi/6 的餘弦值\n",
    "print (\"The value of cosine of pi/6 is : \", end=\"\")\n",
    "print (math.cos(a))"
   ]
  },
  {
   "cell_type": "markdown",
   "metadata": {
    "id": "iH2SCE8iVNd9"
   },
   "source": [
    "求tan()正切值值 與 hypot()長邊值"
   ]
  },
  {
   "cell_type": "code",
   "execution_count": 3,
   "metadata": {
    "colab": {
     "base_uri": "https://localhost:8080/"
    },
    "executionInfo": {
     "elapsed": 404,
     "status": "ok",
     "timestamp": 1635163218488,
     "user": {
      "displayName": "Paul Chen",
      "photoUrl": "https://lh3.googleusercontent.com/a/default-user=s64",
      "userId": "15113937160468943492"
     },
     "user_tz": -480
    },
    "id": "haNOWmkpUDQ-",
    "outputId": "4d4909ab-78de-41b1-d51c-ce59f0647fc9"
   },
   "outputs": [
    {
     "name": "stdout",
     "output_type": "stream",
     "text": [
      "The value of tangent of pi/6 is : 0.5773502691896257\n",
      "The value of hypotenuse of 3 and 4 is : 5.0\n"
     ]
    }
   ],
   "source": [
    "# 用Python 展示\n",
    "# tan() 和 hypot()\n",
    "   \n",
    "# 載入 \"math\" 數學程式庫\n",
    "import math\n",
    "  \n",
    "a = math.pi/6\n",
    "b = 3\n",
    "c = 4\n",
    "   \n",
    "# 求  pi/6 的正切值\n",
    "print (\"The value of tangent of pi/6 is : \", end=\"\")\n",
    "print (math.tan(a))\n",
    "   \n",
    "# 求短邊為 3 and 4 三角形的長邊值\n",
    "print (\"The value of hypotenuse of 3 and 4 is : \", end=\"\")\n",
    "print (math.hypot(b,c))"
   ]
  },
  {
   "cell_type": "markdown",
   "metadata": {
    "id": "889OeVFBU2Bu"
   },
   "source": [
    "角度與弧度的換算"
   ]
  },
  {
   "cell_type": "code",
   "execution_count": 4,
   "metadata": {
    "colab": {
     "base_uri": "https://localhost:8080/"
    },
    "executionInfo": {
     "elapsed": 350,
     "status": "ok",
     "timestamp": 1635163257920,
     "user": {
      "displayName": "Paul Chen",
      "photoUrl": "https://lh3.googleusercontent.com/a/default-user=s64",
      "userId": "15113937160468943492"
     },
     "user_tz": -480
    },
    "id": "EbpYCqAUUytz",
    "outputId": "290cb012-1743-4476-bb0a-4f1e7151597e"
   },
   "outputs": [
    {
     "name": "stdout",
     "output_type": "stream",
     "text": [
      "The converted value from radians to degrees is : 29.999999999999996\n",
      "The converted value from degrees to radians is : 0.5235987755982988\n"
     ]
    }
   ],
   "source": [
    "# 用Python 展示 \n",
    "# degrees() 和 radians()\n",
    "   \n",
    "# 載入 \"math\" 數學程式庫\n",
    "import math\n",
    "   \n",
    "a = math.pi/6\n",
    "b = 30\n",
    "  \n",
    "# 將弧度轉換為角度\n",
    "print (\"The converted value from radians to degrees is : \", end=\"\")\n",
    "print (math.degrees(a))\n",
    "   \n",
    "# 將角度轉換為弧度\n",
    "print (\"The converted value from degrees to radians is : \", end=\"\")\n",
    "print (math.radians(b))"
   ]
  },
  {
   "cell_type": "code",
   "execution_count": null,
   "metadata": {},
   "outputs": [],
   "source": []
  }
 ],
 "metadata": {
  "colab": {
   "authorship_tag": "ABX9TyM+sW/45qaBe8XrcsQvB1pg",
   "name": "MathTrigonometricFun_範例.ipynb",
   "provenance": []
  },
  "kernelspec": {
   "display_name": "Python 3 (ipykernel)",
   "language": "python",
   "name": "python3"
  },
  "language_info": {
   "codemirror_mode": {
    "name": "ipython",
    "version": 3
   },
   "file_extension": ".py",
   "mimetype": "text/x-python",
   "name": "python",
   "nbconvert_exporter": "python",
   "pygments_lexer": "ipython3",
   "version": "3.9.7"
  }
 },
 "nbformat": 4,
 "nbformat_minor": 1
}
