{
 "cells": [
  {
   "cell_type": "markdown",
   "id": "bf92e033",
   "metadata": {},
   "source": [
    "問題1：函數只有可能是一對一函數，多對一函數，而不會是___一對多_____。 通常函數用英文字 f 稱之，記為 f：A→B。\n",
    "\n",
    "\n",
    "\n",
    "問題2：在平面上，選定二條互相垂直的線為座標軸，任一點距座標軸的有號距離為另一軸的座標，這就是二維的笛卡兒座標系，\n",
    "一般會選一條指向右方水平線稱為x軸，再選一條指向上方的垂直線稱為__y軸__，此兩座標軸設定方式稱為「右手座標系」\n",
    "\n",
    "\n",
    "\n",
    "問題3：線性函數是只擁有一個變数的一階多項式函数或者是只有__斜率___的函数，因為在直角坐標系中這些函数的图形是直線。所以，這些函數是線性的。\n",
    "\n",
    "\n",
    "\n",
    "問題4：f(x) = 5X2 + 3X + 2 ，我們稱為_多項式____函數 \n",
    "\n",
    "\n",
    "\n",
    "問題5：在機器學習中，函數應用非常廣泛，我們有 sigmoid()，tanh()，ReLu() 等激活函數，在線性迴歸分析中，我們求的是多項式函數的參數值，也就是_斜率____和截距\n",
    "\n"
   ]
  }
 ],
 "metadata": {
  "kernelspec": {
   "display_name": "Python 3 (ipykernel)",
   "language": "python",
   "name": "python3"
  },
  "language_info": {
   "codemirror_mode": {
    "name": "ipython",
    "version": 3
   },
   "file_extension": ".py",
   "mimetype": "text/x-python",
   "name": "python",
   "nbconvert_exporter": "python",
   "pygments_lexer": "ipython3",
   "version": "3.9.7"
  }
 },
 "nbformat": 4,
 "nbformat_minor": 5
}
