{
 "cells": [
  {
   "cell_type": "raw",
   "id": "7f619f54-65f3-4122-bdd8-d2b4f690df36",
   "metadata": {},
   "source": [
    "完成此作業，希望學員瞭解:\n",
    "監督式與非監督式的差別。\n",
    "\n",
    "題目為 : 把原始要用來做監督式學習的數據，改為要用來作非監督式的數據。\n",
    "\n",
    "作業提示 : 把範例程式中最後的 data 改為無標籤數據。"
   ]
  },
  {
   "cell_type": "code",
   "execution_count": 1,
   "id": "77bc6506-c35c-4463-a2b7-60e43ec9f2e6",
   "metadata": {},
   "outputs": [
    {
     "data": {
      "text/html": [
       "<div>\n",
       "<style scoped>\n",
       "    .dataframe tbody tr th:only-of-type {\n",
       "        vertical-align: middle;\n",
       "    }\n",
       "\n",
       "    .dataframe tbody tr th {\n",
       "        vertical-align: top;\n",
       "    }\n",
       "\n",
       "    .dataframe thead th {\n",
       "        text-align: right;\n",
       "    }\n",
       "</style>\n",
       "<table border=\"1\" class=\"dataframe\">\n",
       "  <thead>\n",
       "    <tr style=\"text-align: right;\">\n",
       "      <th></th>\n",
       "      <th>Petal length</th>\n",
       "      <th>Petal width</th>\n",
       "      <th>class</th>\n",
       "    </tr>\n",
       "  </thead>\n",
       "  <tbody>\n",
       "    <tr>\n",
       "      <th>1</th>\n",
       "      <td>4.5</td>\n",
       "      <td>1.3</td>\n",
       "      <td>1</td>\n",
       "    </tr>\n",
       "    <tr>\n",
       "      <th>2</th>\n",
       "      <td>1.5</td>\n",
       "      <td>0.2</td>\n",
       "      <td>0</td>\n",
       "    </tr>\n",
       "    <tr>\n",
       "      <th>3</th>\n",
       "      <td>5.8</td>\n",
       "      <td>1.6</td>\n",
       "      <td>2</td>\n",
       "    </tr>\n",
       "    <tr>\n",
       "      <th>4</th>\n",
       "      <td>3.5</td>\n",
       "      <td>1.0</td>\n",
       "      <td>1</td>\n",
       "    </tr>\n",
       "    <tr>\n",
       "      <th>5</th>\n",
       "      <td>1.6</td>\n",
       "      <td>0.2</td>\n",
       "      <td>0</td>\n",
       "    </tr>\n",
       "  </tbody>\n",
       "</table>\n",
       "</div>"
      ],
      "text/plain": [
       "   Petal length  Petal width  class\n",
       "1           4.5          1.3      1\n",
       "2           1.5          0.2      0\n",
       "3           5.8          1.6      2\n",
       "4           3.5          1.0      1\n",
       "5           1.6          0.2      0"
      ]
     },
     "execution_count": 1,
     "metadata": {},
     "output_type": "execute_result"
    }
   ],
   "source": [
    "# 範例程式\n",
    "# 導入模組\n",
    "import pandas as pd\n",
    "from sklearn import datasets\n",
    "\n",
    "iris = datasets.load_iris()  # 載入 iris data set\n",
    "data = pd.DataFrame(iris['data'],columns=['Sepal length','Sepal width','Petal length','Petal width'])  # 將 column 改名\n",
    "data['class'] = pd.DataFrame(iris['target'])  # 將正確答案加入表格\n",
    "#使用.head()可以顯示5筆資料（預設是5筆）也可以自訂，只需要在括弧內加上要的數字\n",
    "data = data[['Petal length','Petal width','class']].sample(frac=1).head()  # 只考慮兩個資訊，並隨機的取出五朵花\n",
    "data.index=[1,2,3,4,5]  # 把五朵花的名字改為 1 到 5\n",
    "data  # 看看表格的樣子"
   ]
  },
  {
   "cell_type": "code",
   "execution_count": 3,
   "id": "eb08804d-8115-44c1-8c7f-eaa114be3e1d",
   "metadata": {},
   "outputs": [
    {
     "data": {
      "text/html": [
       "<div>\n",
       "<style scoped>\n",
       "    .dataframe tbody tr th:only-of-type {\n",
       "        vertical-align: middle;\n",
       "    }\n",
       "\n",
       "    .dataframe tbody tr th {\n",
       "        vertical-align: top;\n",
       "    }\n",
       "\n",
       "    .dataframe thead th {\n",
       "        text-align: right;\n",
       "    }\n",
       "</style>\n",
       "<table border=\"1\" class=\"dataframe\">\n",
       "  <thead>\n",
       "    <tr style=\"text-align: right;\">\n",
       "      <th></th>\n",
       "      <th>Petal length</th>\n",
       "      <th>Petal width</th>\n",
       "    </tr>\n",
       "  </thead>\n",
       "  <tbody>\n",
       "    <tr>\n",
       "      <th>1</th>\n",
       "      <td>5.6</td>\n",
       "      <td>2.1</td>\n",
       "    </tr>\n",
       "    <tr>\n",
       "      <th>2</th>\n",
       "      <td>3.9</td>\n",
       "      <td>1.4</td>\n",
       "    </tr>\n",
       "    <tr>\n",
       "      <th>3</th>\n",
       "      <td>4.7</td>\n",
       "      <td>1.4</td>\n",
       "    </tr>\n",
       "    <tr>\n",
       "      <th>4</th>\n",
       "      <td>1.4</td>\n",
       "      <td>0.3</td>\n",
       "    </tr>\n",
       "    <tr>\n",
       "      <th>5</th>\n",
       "      <td>4.9</td>\n",
       "      <td>1.5</td>\n",
       "    </tr>\n",
       "  </tbody>\n",
       "</table>\n",
       "</div>"
      ],
      "text/plain": [
       "   Petal length  Petal width\n",
       "1           5.6          2.1\n",
       "2           3.9          1.4\n",
       "3           4.7          1.4\n",
       "4           1.4          0.3\n",
       "5           4.9          1.5"
      ]
     },
     "execution_count": 3,
     "metadata": {},
     "output_type": "execute_result"
    }
   ],
   "source": [
    "# 題目\n",
    "data = pd.DataFrame(iris['data'],columns=['Sepal length','Sepal width','Petal length','Petal width'])\n",
    "data = data[['Petal length','Petal width']].sample(frac=1).head()\n",
    "data.index=[1,2,3,4,5]\n",
    "data"
   ]
  },
  {
   "cell_type": "code",
   "execution_count": null,
   "id": "b8644f6b",
   "metadata": {},
   "outputs": [],
   "source": [
    "# 標準解答\n",
    "# data = data[['Petal length','Petal width']]\n",
    "# data"
   ]
  }
 ],
 "metadata": {
  "kernelspec": {
   "display_name": "Python 3 (ipykernel)",
   "language": "python",
   "name": "python3"
  },
  "language_info": {
   "codemirror_mode": {
    "name": "ipython",
    "version": 3
   },
   "file_extension": ".py",
   "mimetype": "text/x-python",
   "name": "python",
   "nbconvert_exporter": "python",
   "pygments_lexer": "ipython3",
   "version": "3.9.7"
  }
 },
 "nbformat": 4,
 "nbformat_minor": 5
}
