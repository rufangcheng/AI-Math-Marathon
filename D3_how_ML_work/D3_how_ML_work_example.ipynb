{
 "cells": [
  {
   "cell_type": "markdown",
   "id": "2fdca99b-5826-4008-8ca4-1ae34f58aa9d",
   "metadata": {},
   "source": [
    "當我們想表示價格或人口數:"
   ]
  },
  {
   "cell_type": "code",
   "execution_count": 1,
   "id": "5950b339-8374-4169-8ed1-988b0d55338c",
   "metadata": {},
   "outputs": [],
   "source": [
    "import pandas as pd\n",
    "import numpy as np"
   ]
  },
  {
   "cell_type": "code",
   "execution_count": 2,
   "id": "a536c546-7a28-4ef1-a03e-c11ff2dadeaa",
   "metadata": {},
   "outputs": [],
   "source": [
    "price = {'房價':[30,20,10], '人口數':[300,200,100]}\n",
    "price_data = pd.DataFrame(price, index=['北','中','南'])"
   ]
  },
  {
   "cell_type": "code",
   "execution_count": 3,
   "id": "fadd4768-45b4-4de9-b181-4895db669af0",
   "metadata": {},
   "outputs": [
    {
     "data": {
      "text/html": [
       "<div>\n",
       "<style scoped>\n",
       "    .dataframe tbody tr th:only-of-type {\n",
       "        vertical-align: middle;\n",
       "    }\n",
       "\n",
       "    .dataframe tbody tr th {\n",
       "        vertical-align: top;\n",
       "    }\n",
       "\n",
       "    .dataframe thead th {\n",
       "        text-align: right;\n",
       "    }\n",
       "</style>\n",
       "<table border=\"1\" class=\"dataframe\">\n",
       "  <thead>\n",
       "    <tr style=\"text-align: right;\">\n",
       "      <th></th>\n",
       "      <th>房價</th>\n",
       "      <th>人口數</th>\n",
       "    </tr>\n",
       "  </thead>\n",
       "  <tbody>\n",
       "    <tr>\n",
       "      <th>北</th>\n",
       "      <td>30</td>\n",
       "      <td>300</td>\n",
       "    </tr>\n",
       "    <tr>\n",
       "      <th>中</th>\n",
       "      <td>20</td>\n",
       "      <td>200</td>\n",
       "    </tr>\n",
       "    <tr>\n",
       "      <th>南</th>\n",
       "      <td>10</td>\n",
       "      <td>100</td>\n",
       "    </tr>\n",
       "  </tbody>\n",
       "</table>\n",
       "</div>"
      ],
      "text/plain": [
       "   房價  人口數\n",
       "北  30  300\n",
       "中  20  200\n",
       "南  10  100"
      ]
     },
     "execution_count": 3,
     "metadata": {},
     "output_type": "execute_result"
    }
   ],
   "source": [
    "price_data"
   ]
  },
  {
   "cell_type": "markdown",
   "id": "03cda1ee-18a4-46df-b642-b55b5188856a",
   "metadata": {},
   "source": [
    "由此可知，北區的房價與人口數都比其他兩者高。"
   ]
  },
  {
   "cell_type": "markdown",
   "id": "6d85567f-3526-4cbb-b1f2-e3c01e702366",
   "metadata": {},
   "source": [
    "當我們想表示貓狗 (0 代表假，1代表真) :"
   ]
  },
  {
   "cell_type": "code",
   "execution_count": 4,
   "id": "5477e12d-cfb9-40c3-be53-10f58de3cc17",
   "metadata": {},
   "outputs": [],
   "source": [
    "animal = {'嗅覺靈敏':[1,0,0],'看門':[1,1,1]}\n",
    "animal_cla = pd.DataFrame(animal, index=['animal_1','animal_2','animal_3'])"
   ]
  },
  {
   "cell_type": "code",
   "execution_count": 5,
   "id": "a4972477-1adb-4baf-9bcb-2e834b1c4d75",
   "metadata": {},
   "outputs": [
    {
     "data": {
      "text/html": [
       "<div>\n",
       "<style scoped>\n",
       "    .dataframe tbody tr th:only-of-type {\n",
       "        vertical-align: middle;\n",
       "    }\n",
       "\n",
       "    .dataframe tbody tr th {\n",
       "        vertical-align: top;\n",
       "    }\n",
       "\n",
       "    .dataframe thead th {\n",
       "        text-align: right;\n",
       "    }\n",
       "</style>\n",
       "<table border=\"1\" class=\"dataframe\">\n",
       "  <thead>\n",
       "    <tr style=\"text-align: right;\">\n",
       "      <th></th>\n",
       "      <th>嗅覺靈敏</th>\n",
       "      <th>看門</th>\n",
       "    </tr>\n",
       "  </thead>\n",
       "  <tbody>\n",
       "    <tr>\n",
       "      <th>animal_1</th>\n",
       "      <td>1</td>\n",
       "      <td>1</td>\n",
       "    </tr>\n",
       "    <tr>\n",
       "      <th>animal_2</th>\n",
       "      <td>0</td>\n",
       "      <td>1</td>\n",
       "    </tr>\n",
       "    <tr>\n",
       "      <th>animal_3</th>\n",
       "      <td>0</td>\n",
       "      <td>1</td>\n",
       "    </tr>\n",
       "  </tbody>\n",
       "</table>\n",
       "</div>"
      ],
      "text/plain": [
       "          嗅覺靈敏  看門\n",
       "animal_1     1   1\n",
       "animal_2     0   1\n",
       "animal_3     0   1"
      ]
     },
     "execution_count": 5,
     "metadata": {},
     "output_type": "execute_result"
    }
   ],
   "source": [
    "animal_cla"
   ]
  },
  {
   "cell_type": "markdown",
   "id": "b17642de-df98-4019-92b3-558efbeeace1",
   "metadata": {},
   "source": [
    "由此可知， animal_1 是狗的機率比其他兩者大。"
   ]
  }
 ],
 "metadata": {
  "kernelspec": {
   "display_name": "Python 3 (ipykernel)",
   "language": "python",
   "name": "python3"
  },
  "language_info": {
   "codemirror_mode": {
    "name": "ipython",
    "version": 3
   },
   "file_extension": ".py",
   "mimetype": "text/x-python",
   "name": "python",
   "nbconvert_exporter": "python",
   "pygments_lexer": "ipython3",
   "version": "3.9.7"
  }
 },
 "nbformat": 4,
 "nbformat_minor": 5
}
