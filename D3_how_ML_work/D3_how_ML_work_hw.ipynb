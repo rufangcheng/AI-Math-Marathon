{
 "cells": [
  {
   "cell_type": "markdown",
   "id": "8f988847-fe7e-4c9b-84b3-31e477555d2b",
   "metadata": {},
   "source": [
    "作業目標 : 了解數字與符號的應用。\n",
    "\n",
    "作業題目 : 若想以中括號分別表示 5 個類別，如何做到。(提示 : one-hot encoding)"
   ]
  },
  {
   "cell_type": "code",
   "execution_count": null,
   "id": "49011914-7af7-42a9-8b3e-5ddc44ccf06c",
   "metadata": {},
   "outputs": [],
   "source": [
    "cla_1 = [ ?, ?, ?, ?, ?]\n",
    "cla_2 = [ ?, ?, ?, ?, ?]\n",
    "cla_3 = [ ?, ?, ?, ?, ?]\n",
    "cla_4 = [ ?, ?, ?, ?, ?]\n",
    "cla_5 = [ ?, ?, ?, ?, ?]"
   ]
  }
 ],
 "metadata": {
  "kernelspec": {
   "display_name": "Python 3",
   "language": "python",
   "name": "python3"
  },
  "language_info": {
   "codemirror_mode": {
    "name": "ipython",
    "version": 3
   },
   "file_extension": ".py",
   "mimetype": "text/x-python",
   "name": "python",
   "nbconvert_exporter": "python",
   "pygments_lexer": "ipython3",
   "version": "3.8.5"
  }
 },
 "nbformat": 4,
 "nbformat_minor": 5
}
