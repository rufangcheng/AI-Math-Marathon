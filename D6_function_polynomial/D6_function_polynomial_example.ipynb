{
 "cells": [
  {
   "cell_type": "markdown",
   "metadata": {
    "id": "ZZQnS9y1Ytco"
   },
   "source": [
    "認識兩個數值函數\n",
    "\n",
    "1. ceil() :- 屋頂函數，此函數回傳比此數大的最小整數，如此數已為整數，則回傳相同值。\n",
    "\n",
    "2. floor() :-地板函數，此函數回傳比此數小的最大整數，如此數已為整數，則回傳相同值。"
   ]
  },
  {
   "cell_type": "code",
   "execution_count": 1,
   "metadata": {
    "colab": {
     "base_uri": "https://localhost:8080/"
    },
    "executionInfo": {
     "elapsed": 18,
     "status": "ok",
     "timestamp": 1635579785180,
     "user": {
      "displayName": "Paul Chen",
      "photoUrl": "https://lh3.googleusercontent.com/a/default-user=s64",
      "userId": "15113937160468943492"
     },
     "user_tz": -480
    },
    "id": "iCcGk5rNYGsn",
    "outputId": "c921adeb-700a-4a8a-f1c9-e384b5e2f217"
   },
   "outputs": [
    {
     "name": "stdout",
     "output_type": "stream",
     "text": [
      "The ceil of 2.3 is : 3\n",
      "The floor of 2.3 is : 2\n"
     ]
    }
   ],
   "source": [
    "# 以 Python 程式示範如何呼叫\n",
    "# ceil() 和 floor()\n",
    "\n",
    "# 載入 \"math\" 數學程式庫\n",
    "import math\n",
    "\n",
    "a = 2.3\n",
    "\n",
    "# 求 2.3 的 ceil()\n",
    "print (\"The ceil of 2.3 is : \", end=\"\")\n",
    "print (math.ceil(a))\n",
    "\n",
    "# 求 2.3 的 floor()\n",
    "print (\"The floor of 2.3 is : \", end=\"\")\n",
    "print (math.floor(a))\n"
   ]
  },
  {
   "cell_type": "markdown",
   "metadata": {
    "id": "_-BATvKzYzUc"
   },
   "source": [
    "認識fabs()和 factorial()\n",
    "\n",
    "3.fabs() :- 此函數回傳絕對值\n",
    "\n",
    "4.factorial() :- 此函數回傳階乘值，如 5! = 5 乘 4 乘 3 乘 2 乘 1 = 120"
   ]
  },
  {
   "cell_type": "code",
   "execution_count": 2,
   "metadata": {
    "colab": {
     "base_uri": "https://localhost:8080/"
    },
    "executionInfo": {
     "elapsed": 372,
     "status": "ok",
     "timestamp": 1635164207267,
     "user": {
      "displayName": "Paul Chen",
      "photoUrl": "https://lh3.googleusercontent.com/a/default-user=s64",
      "userId": "15113937160468943492"
     },
     "user_tz": -480
    },
    "id": "5DmRBwcvYaEa",
    "outputId": "bb3d0bda-9926-4a07-b2dc-53c3a309002a"
   },
   "outputs": [
    {
     "name": "stdout",
     "output_type": "stream",
     "text": [
      "The absolute value of -10 is : 10.0\n",
      "The factorial of 5 is : 120\n"
     ]
    }
   ],
   "source": [
    "# 以 Python 程式示範如何呼叫\n",
    "# fabs() and factorial()\n",
    "\n",
    "# 載入 \"math\" 數學程式庫\n",
    "import math\n",
    "\n",
    "a = -10\n",
    "\n",
    "b= 5\n",
    "\n",
    "# 回傳絕對值.\n",
    "print (\"The absolute value of -10 is : \", end=\"\")\n",
    "print (math.fabs(a))\n",
    "\n",
    "# 回傳 5 的階乘\n",
    "print (\"The factorial of 5 is : \", end=\"\")\n",
    "print (math.factorial(b))\n"
   ]
  },
  {
   "cell_type": "markdown",
   "metadata": {
    "id": "bKOhN7mBY6ov"
   },
   "source": [
    "認識 copyign() 和 gcd()\n",
    "\n",
    "5. copysign(a, b) :- 此函數回傳‘a’ 的值和 ‘b’的正負號， 是個浮點函數.\n",
    "\n",
    "6. gcd() :- 此函數回傳最大公約數. 版本需 python 3.5 或以上"
   ]
  },
  {
   "cell_type": "markdown",
   "metadata": {
    "id": "TEC1B0zKLyC_"
   },
   "source": []
  },
  {
   "cell_type": "code",
   "execution_count": 3,
   "metadata": {
    "colab": {
     "base_uri": "https://localhost:8080/"
    },
    "executionInfo": {
     "elapsed": 351,
     "status": "ok",
     "timestamp": 1635164235590,
     "user": {
      "displayName": "Paul Chen",
      "photoUrl": "https://lh3.googleusercontent.com/a/default-user=s64",
      "userId": "15113937160468943492"
     },
     "user_tz": -480
    },
    "id": "ZcjhNv8RYhES",
    "outputId": "5785af3a-7afd-40e2-f765-c1148cdbdf66"
   },
   "outputs": [
    {
     "name": "stdout",
     "output_type": "stream",
     "text": [
      "The copysigned value of -10 and 5.5 is : -5.5\n",
      "The gcd of 5 and 15 is : 5\n"
     ]
    }
   ],
   "source": [
    "# 以 Python 程式呼叫\n",
    "# copysign() 和 gcd()\n",
    "\n",
    "# 載入 \"math\" 數學程式庫\n",
    "import math\n",
    "\n",
    "a = -10\n",
    "b = 5.5\n",
    "c = 15\n",
    "d = 5\n",
    "\n",
    "# 回傳 copysigned 值值.\n",
    "print (\"The copysigned value of -10 and 5.5 is : \", end=\"\")\n",
    "print (math.copysign(5.5, -10))\n",
    "\n",
    "# 回傳 15 和 5 的 最大公約數\n",
    "print (\"The gcd of 5 and 15 is : \", end=\"\")\n",
    "print (math.gcd(5,15))\n"
   ]
  },
  {
   "cell_type": "code",
   "execution_count": null,
   "metadata": {},
   "outputs": [],
   "source": []
  }
 ],
 "metadata": {
  "colab": {
   "authorship_tag": "ABX9TyOFrvejm4amMZ7qAbbtTb3w",
   "name": "MathNumericalFunc_範例程式.ipynb",
   "provenance": []
  },
  "kernelspec": {
   "display_name": "Python 3 (ipykernel)",
   "language": "python",
   "name": "python3"
  },
  "language_info": {
   "codemirror_mode": {
    "name": "ipython",
    "version": 3
   },
   "file_extension": ".py",
   "mimetype": "text/x-python",
   "name": "python",
   "nbconvert_exporter": "python",
   "pygments_lexer": "ipython3",
   "version": "3.9.7"
  }
 },
 "nbformat": 4,
 "nbformat_minor": 1
}
