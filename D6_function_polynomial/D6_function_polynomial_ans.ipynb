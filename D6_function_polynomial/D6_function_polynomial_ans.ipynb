{
  "nbformat": 4,
  "nbformat_minor": 0,
  "metadata": {
    "colab": {
      "name": "MathNumericalFunc_作業解答.ipynb",
      "provenance": []
    },
    "kernelspec": {
      "name": "python3",
      "display_name": "Python 3"
    },
    "language_info": {
      "name": "python"
    }
  },
  "cells": [
    {
      "cell_type": "markdown",
      "metadata": {
        "id": "ZZQnS9y1Ytco"
      },
      "source": [
        "認識兩個數值函數\n",
        "\n",
        "1. ceil() :- 求 7.9 的 ceil()\n",
        "\n",
        "2. floor() :-求 7.9 的 floor()值。"
      ]
    },
    {
      "cell_type": "code",
      "metadata": {
        "colab": {
          "base_uri": "https://localhost:8080/"
        },
        "id": "iCcGk5rNYGsn",
        "outputId": "042e67dc-7934-4e7b-f26c-5666c1977616"
      },
      "source": [
        "# 以 Python 程式示範如何呼叫\n",
        "# ceil() 和 floor()\n",
        "\n",
        "# 載入 \"math\" 數學程式庫\n",
        "import math\n",
        "\n",
        "a = 7.9\n",
        "\n",
        "# 求 7.9 的 ceil()\n",
        "print (\"The ceil of 7.9 is : \", end=\"\")\n",
        "print (math.ceil(a))\n",
        "\n",
        "# 求 7.9 的 floor()\n",
        "print (\"The floor of 7.9 is : \", end=\"\")\n",
        "print (math.floor(a))\n"
      ],
      "execution_count": null,
      "outputs": [
        {
          "output_type": "stream",
          "name": "stdout",
          "text": [
            "The ceil of 7.9 is : 8\n",
            "The floor of 7.9 is : 7\n"
          ]
        }
      ]
    },
    {
      "cell_type": "markdown",
      "metadata": {
        "id": "_-BATvKzYzUc"
      },
      "source": [
        "認識fabs()和 factorial()\n",
        "\n",
        "3.fabs() :-  回傳-1的絕對值\n",
        "\n",
        "4.factorial() :- 回傳6階乘值"
      ]
    },
    {
      "cell_type": "code",
      "metadata": {
        "colab": {
          "base_uri": "https://localhost:8080/"
        },
        "id": "5DmRBwcvYaEa",
        "outputId": "81dba8eb-be65-473f-a4b1-2fd1fd8ce7b3"
      },
      "source": [
        "# 以 Python 程式示範如何呼叫\n",
        "# fabs() and factorial()\n",
        "\n",
        "# 載入 \"math\" 數學程式庫\n",
        "import math\n",
        "\n",
        "a = -1\n",
        "\n",
        "b= 6\n",
        "\n",
        "# 回傳絕對值.\n",
        "print (\"The absolute value of -1 is : \", end=\"\")\n",
        "print (math.fabs(a))\n",
        "\n",
        "# 回傳 6 的階乘\n",
        "print (\"The factorial of 6 is : \", end=\"\")\n",
        "print (math.factorial(b))\n"
      ],
      "execution_count": null,
      "outputs": [
        {
          "output_type": "stream",
          "name": "stdout",
          "text": [
            "The absolute value of -1 is : 1.0\n",
            "The factorial of 6 is : 720\n"
          ]
        }
      ]
    },
    {
      "cell_type": "markdown",
      "metadata": {
        "id": "bKOhN7mBY6ov"
      },
      "source": [
        "認識 copyign() 和 gcd()\n",
        "\n",
        "5. copysign(a, b) :- 此函數回傳 -9 的值和 7.6 的正負號， 是個浮點函數.\n",
        "\n",
        "6. gcd() :- 此函數回傳10和25的最大公約數. 版本需 python 3.5 或以上"
      ]
    },
    {
      "cell_type": "code",
      "metadata": {
        "colab": {
          "base_uri": "https://localhost:8080/"
        },
        "id": "ZcjhNv8RYhES",
        "outputId": "2f3beedb-e043-47c2-ff32-b3d539fa4269"
      },
      "source": [
        "# 以 Python 程式呼叫\n",
        "# copysign() 和 gcd()\n",
        "\n",
        "# 載入 \"math\" 數學程式庫\n",
        "import math\n",
        "\n",
        "a = -9\n",
        "b = 7.6\n",
        "c = 25\n",
        "d = 10\n",
        "\n",
        "# 回傳 copysigned 的值.\n",
        "print (\"The copysigned value of -9 and 7.6 is : \", end=\"\")\n",
        "print (math.copysign(a,b))\n",
        "\n",
        "# 回傳 25 和 10 的 最大公約數\n",
        "print (\"The gcd of 10 and 25 is : \", end=\"\")\n",
        "print (math.gcd(c,d))\n"
      ],
      "execution_count": 2,
      "outputs": [
        {
          "output_type": "stream",
          "name": "stdout",
          "text": [
            "The copysigned value of -9 and 7.6 is : 9.0\n",
            "The gcd of 10 and 25 is : 5\n"
          ]
        }
      ]
    }
  ]
}