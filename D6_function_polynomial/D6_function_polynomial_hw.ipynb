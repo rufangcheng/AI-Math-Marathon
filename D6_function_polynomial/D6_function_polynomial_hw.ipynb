{
 "cells": [
  {
   "cell_type": "markdown",
   "metadata": {
    "id": "ZZQnS9y1Ytco"
   },
   "source": [
    "認識兩個數值函數\n",
    "\n",
    "1. ceil() :- 求 7.9 的 ceil()\n",
    "\n",
    "2. floor() :-求 7.9 的 floor()值。"
   ]
  },
  {
   "cell_type": "code",
   "execution_count": 6,
   "metadata": {
    "colab": {
     "base_uri": "https://localhost:8080/"
    },
    "id": "iCcGk5rNYGsn",
    "outputId": "042e67dc-7934-4e7b-f26c-5666c1977616"
   },
   "outputs": [
    {
     "name": "stdout",
     "output_type": "stream",
     "text": [
      "ceil(7.9) = 8\n",
      "floor(7.9) = 7\n"
     ]
    }
   ],
   "source": [
    "# 以 Python 程式示範如何呼叫\n",
    "# ceil() 和 floor()\n",
    "\n",
    "# 載入 \"math\" 數學程式庫\n",
    "import math\n",
    "\n",
    "a = 7.9\n",
    "\n",
    "# 求 7.9 的 ceil()\n",
    "## 你的程式碼  ##\n",
    "print('ceil(7.9) = ', end = '')\n",
    "print(math.ceil(7.9))\n",
    "\n",
    "# 求 7.9 的 floor()\n",
    "## 你的程式碼  ##\n",
    "print('floor(7.9) = ', end = '')\n",
    "print(math.floor(7.9))\n"
   ]
  },
  {
   "cell_type": "markdown",
   "metadata": {
    "id": "_-BATvKzYzUc"
   },
   "source": [
    "認識fabs()和 factorial()\n",
    "\n",
    "3.fabs() :-  回傳-1的絕對值\n",
    "\n",
    "4.factorial() :- 回傳6階乘值"
   ]
  },
  {
   "cell_type": "code",
   "execution_count": 12,
   "metadata": {
    "colab": {
     "base_uri": "https://localhost:8080/"
    },
    "id": "5DmRBwcvYaEa",
    "outputId": "81dba8eb-be65-473f-a4b1-2fd1fd8ce7b3"
   },
   "outputs": [
    {
     "name": "stdout",
     "output_type": "stream",
     "text": [
      "absolute value of -1 is 1.0\n",
      "6! = 720\n"
     ]
    }
   ],
   "source": [
    "# 以 Python 程式示範如何呼叫\n",
    "# fabs() and factorial()\n",
    "\n",
    "# 載入 \"math\" 數學程式庫\n",
    "import math\n",
    "\n",
    "a = -1\n",
    "\n",
    "b= 6\n",
    "\n",
    "# 回傳絕對值.\n",
    "## 你的程式碼  ##\n",
    "print('absolute value of -1 is ', end = '')\n",
    "print(math.fabs(a))\n",
    "# 回傳 6 的階乘\n",
    "## 你的程式碼  ##\n",
    "print('6! = ', end = '')\n",
    "print(math.factorial(6))"
   ]
  },
  {
   "cell_type": "markdown",
   "metadata": {
    "id": "bKOhN7mBY6ov"
   },
   "source": [
    "認識 copyign() 和 gcd()\n",
    "\n",
    "5. copysign(a, b) :- 此函數回傳 -9 的值和 7.6 的正負號， 是個浮點函數.\n",
    "\n",
    "6. gcd() :- 此函數回傳10和25的最大公約數. 版本需 python 3.5 或以上"
   ]
  },
  {
   "cell_type": "code",
   "execution_count": 15,
   "metadata": {
    "colab": {
     "base_uri": "https://localhost:8080/"
    },
    "id": "r4rc4dmUDQAj",
    "outputId": "80c0c011-b9b0-4a31-becd-821ccae2a5af"
   },
   "outputs": [
    {
     "name": "stdout",
     "output_type": "stream",
     "text": [
      "copysign(9,7.6) is 9.0\n",
      "gcd(25,10) is 5\n"
     ]
    }
   ],
   "source": [
    "# 以 Python 程式呼叫\n",
    "# copysign() 和 gcd()\n",
    "\n",
    "# 載入 \"math\" 數學程式庫\n",
    "import math\n",
    "\n",
    "a = -9\n",
    "b = 7.6\n",
    "c = 25\n",
    "d = 10\n",
    "\n",
    "# 回傳 copysigned 的值.\n",
    "## 你的程式碼  ##\n",
    "print('copysign(9,7.6) is ', end = '')\n",
    "print(math.copysign(a,b))\n",
    "# 回傳 25 和 10 的 最大公約數\n",
    "## 你的程式碼  ##\n",
    "print('gcd(25,10) is ', end = '')\n",
    "print(math.gcd(c,d))"
   ]
  },
  {
   "cell_type": "code",
   "execution_count": null,
   "metadata": {},
   "outputs": [],
   "source": []
  }
 ],
 "metadata": {
  "colab": {
   "name": "MathNumericalFunc_作業.ipynb",
   "provenance": []
  },
  "kernelspec": {
   "display_name": "Python 3 (ipykernel)",
   "language": "python",
   "name": "python3"
  },
  "language_info": {
   "codemirror_mode": {
    "name": "ipython",
    "version": 3
   },
   "file_extension": ".py",
   "mimetype": "text/x-python",
   "name": "python",
   "nbconvert_exporter": "python",
   "pygments_lexer": "ipython3",
   "version": "3.9.7"
  }
 },
 "nbformat": 4,
 "nbformat_minor": 1
}
