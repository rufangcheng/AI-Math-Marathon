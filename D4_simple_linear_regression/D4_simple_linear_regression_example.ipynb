{
 "cells": [
  {
   "cell_type": "code",
   "execution_count": 1,
   "id": "52cb6be6-95f6-4b62-a55d-7b68754e500b",
   "metadata": {},
   "outputs": [],
   "source": [
    "from sklearn.linear_model import LinearRegression\n",
    "import matplotlib.pyplot as plt\n",
    "from sklearn import datasets\n",
    "import pandas as pd\n",
    "import numpy as np"
   ]
  },
  {
   "cell_type": "code",
   "execution_count": 2,
   "id": "a31ca5c4-b036-4ed1-8bf2-ee7d45289591",
   "metadata": {},
   "outputs": [],
   "source": [
    "data = pd.DataFrame({'身高':[155,166,187,178,195],'體重':[55.7,67.8,68.6,77.4,86.8]})"
   ]
  },
  {
   "cell_type": "code",
   "execution_count": 3,
   "id": "11b0f6ae-7b97-4614-be71-34133e5dc435",
   "metadata": {},
   "outputs": [
    {
     "data": {
      "text/html": [
       "<div>\n",
       "<style scoped>\n",
       "    .dataframe tbody tr th:only-of-type {\n",
       "        vertical-align: middle;\n",
       "    }\n",
       "\n",
       "    .dataframe tbody tr th {\n",
       "        vertical-align: top;\n",
       "    }\n",
       "\n",
       "    .dataframe thead th {\n",
       "        text-align: right;\n",
       "    }\n",
       "</style>\n",
       "<table border=\"1\" class=\"dataframe\">\n",
       "  <thead>\n",
       "    <tr style=\"text-align: right;\">\n",
       "      <th></th>\n",
       "      <th>身高</th>\n",
       "      <th>體重</th>\n",
       "    </tr>\n",
       "  </thead>\n",
       "  <tbody>\n",
       "    <tr>\n",
       "      <th>0</th>\n",
       "      <td>155</td>\n",
       "      <td>55.7</td>\n",
       "    </tr>\n",
       "    <tr>\n",
       "      <th>1</th>\n",
       "      <td>166</td>\n",
       "      <td>67.8</td>\n",
       "    </tr>\n",
       "    <tr>\n",
       "      <th>2</th>\n",
       "      <td>187</td>\n",
       "      <td>68.6</td>\n",
       "    </tr>\n",
       "    <tr>\n",
       "      <th>3</th>\n",
       "      <td>178</td>\n",
       "      <td>77.4</td>\n",
       "    </tr>\n",
       "    <tr>\n",
       "      <th>4</th>\n",
       "      <td>195</td>\n",
       "      <td>86.8</td>\n",
       "    </tr>\n",
       "  </tbody>\n",
       "</table>\n",
       "</div>"
      ],
      "text/plain": [
       "    身高    體重\n",
       "0  155  55.7\n",
       "1  166  67.8\n",
       "2  187  68.6\n",
       "3  178  77.4\n",
       "4  195  86.8"
      ]
     },
     "execution_count": 3,
     "metadata": {},
     "output_type": "execute_result"
    }
   ],
   "source": [
    "data"
   ]
  },
  {
   "cell_type": "code",
   "execution_count": 7,
   "id": "f95246aa-8eab-4222-ac53-3f6ff247057b",
   "metadata": {},
   "outputs": [],
   "source": [
    "x = np.array(data['身高']).reshape(-1,1)\n",
    "y = data['體重']"
   ]
  },
  {
   "cell_type": "code",
   "execution_count": 8,
   "id": "11912de6",
   "metadata": {},
   "outputs": [
    {
     "name": "stdout",
     "output_type": "stream",
     "text": [
      "[[155]\n",
      " [166]\n",
      " [187]\n",
      " [178]\n",
      " [195]]\n"
     ]
    }
   ],
   "source": [
    "print(x) "
   ]
  },
  {
   "cell_type": "code",
   "execution_count": 9,
   "id": "23a11174-f983-4b65-aa30-bae6dbe1d1ff",
   "metadata": {},
   "outputs": [
    {
     "data": {
      "text/plain": [
       "LinearRegression()"
      ]
     },
     "execution_count": 9,
     "metadata": {},
     "output_type": "execute_result"
    }
   ],
   "source": [
    "model = LinearRegression()\n",
    "model.fit(x,y)"
   ]
  },
  {
   "cell_type": "code",
   "execution_count": 10,
   "id": "318d2b46-36cc-4701-ba99-a43563f270be",
   "metadata": {},
   "outputs": [],
   "source": [
    "predict = model.predict(x)"
   ]
  },
  {
   "cell_type": "code",
   "execution_count": 11,
   "id": "711fb9b8-0175-4b08-98b2-9f97f43d9ed7",
   "metadata": {},
   "outputs": [
    {
     "data": {
      "image/png": "[encoded data removed]",
      "text/plain": [
       "<Figure size 432x288 with 1 Axes>"
      ]
     },
     "metadata": {
      "needs_background": "light"
     },
     "output_type": "display_data"
    }
   ],
   "source": [
    "plt.plot(x,predict,c=\"red\")\n",
    "plt.scatter(x,y)\n",
    "plt.title('simple linear regression')\n",
    "plt.xlabel('height')\n",
    "plt.ylabel('weight')\n",
    "plt.show()"
   ]
  },
  {
   "cell_type": "code",
   "execution_count": 12,
   "id": "a8966f02-86a9-4bb9-839d-0551cc6c4d4a",
   "metadata": {},
   "outputs": [
    {
     "data": {
      "text/plain": [
       "array([0.62294507])"
      ]
     },
     "execution_count": 12,
     "metadata": {},
     "output_type": "execute_result"
    }
   ],
   "source": [
    "model.coef_"
   ]
  },
  {
   "cell_type": "code",
   "execution_count": 14,
   "id": "50ecce87-5966-4f81-82d3-47513f96549f",
   "metadata": {},
   "outputs": [
    {
     "name": "stdout",
     "output_type": "stream",
     "text": [
      "w0 是 -38.502922\n",
      "w1 是 0.622945\n"
     ]
    }
   ],
   "source": [
    "print('w0 是 %f' % model.intercept_)\n",
    "print('w1 是 %f' % model.coef_)"
   ]
  },
  {
   "cell_type": "markdown",
   "id": "04d547e4-9cea-43bf-aeb2-1af8cf0ea297",
   "metadata": {},
   "source": [
    "$$weight = -38.50922(w_0) + 0.622945(w_1) \\times height(x)$$ "
   ]
  },
  {
   "cell_type": "markdown",
   "id": "5a6e8d55-c296-46ef-b67b-b4dba3d01ac9",
   "metadata": {},
   "source": [
    "### 設計直線\n",
    "$$y=w_0+w_1x$$"
   ]
  },
  {
   "cell_type": "code",
   "execution_count": 15,
   "id": "1ea554ef-e5b2-4ab4-b6aa-a1334661e3d8",
   "metadata": {},
   "outputs": [],
   "source": [
    "def line(w0,w1):\n",
    "    x=np.linspace(-10,10)\n",
    "    y = w0 + w1*x\n",
    "    plt.plot(x,y)\n",
    "    plt.xlim(-10,10)\n",
    "    plt.ylim(-20,20)\n",
    "    plt.title('y = %f + %f * x'%(w0,w1))\n",
    "    plt.xlabel('x')\n",
    "    plt.ylabel('y')\n",
    "    return 'finish'"
   ]
  },
  {
   "cell_type": "code",
   "execution_count": 16,
   "id": "2a96640a-48ae-452b-a8ef-3ac3f939e131",
   "metadata": {},
   "outputs": [
    {
     "data": {
      "text/plain": [
       "'finish'"
      ]
     },
     "execution_count": 16,
     "metadata": {},
     "output_type": "execute_result"
    },
    {
     "data": {
      "image/png": "[encoded data removed]",
      "text/plain": [
       "<Figure size 432x288 with 1 Axes>"
      ]
     },
     "metadata": {
      "needs_background": "light"
     },
     "output_type": "display_data"
    }
   ],
   "source": [
    "import numpy as np\n",
    "\n",
    "line( model.coef_, model.intercept_)"
   ]
  },
  {
   "cell_type": "code",
   "execution_count": null,
   "id": "def9cf45-c177-451f-970d-635d695077a5",
   "metadata": {},
   "outputs": [],
   "source": []
  }
 ],
 "metadata": {
  "kernelspec": {
   "display_name": "Python 3 (ipykernel)",
   "language": "python",
   "name": "python3"
  },
  "language_info": {
   "codemirror_mode": {
    "name": "ipython",
    "version": 3
   },
   "file_extension": ".py",
   "mimetype": "text/x-python",
   "name": "python",
   "nbconvert_exporter": "python",
   "pygments_lexer": "ipython3",
   "version": "3.9.7"
  }
 },
 "nbformat": 4,
 "nbformat_minor": 5
}
