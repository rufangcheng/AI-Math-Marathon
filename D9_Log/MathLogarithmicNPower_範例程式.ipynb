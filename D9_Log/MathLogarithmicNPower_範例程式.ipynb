{
 "cells": [
  {
   "cell_type": "markdown",
   "metadata": {
    "id": "9d4fzWGcXjQD"
   },
   "source": [
    "在此示範對數Logarithmic 和指數 power 函數.\n",
    "\n",
    "1. exp(a) :- 此函數回傳歐拉數 e 的 a 次冪 (e**a) .\n",
    "\n",
    "2. log(a, b) :- 此函數回傳以b為底數的 a 之對數值. 如省略底數則是自然對數."
   ]
  },
  {
   "cell_type": "code",
   "execution_count": 3,
   "metadata": {
    "colab": {
     "base_uri": "https://localhost:8080/"
    },
    "executionInfo": {
     "elapsed": 21,
     "status": "ok",
     "timestamp": 1635163833218,
     "user": {
      "displayName": "Paul Chen",
      "photoUrl": "https://lh3.googleusercontent.com/a/default-user=s64",
      "userId": "15113937160468943492"
     },
     "user_tz": -480
    },
    "id": "5GwKcZeoWa2R",
    "outputId": "1d0a70c7-e35e-48a8-8e49-432296331316"
   },
   "outputs": [
    {
     "name": "stdout",
     "output_type": "stream",
     "text": [
      "The e**4 value is : 54.598150033144236\n",
      "The value of log 2 with base 3 is : 0.6309297535714574\n"
     ]
    }
   ],
   "source": [
    "# 以 Python 程式碼展示\n",
    "# exp() 和 log() 函數\n",
    "\n",
    "# 載入 \"math\" 數學程式庫\n",
    "import math\n",
    "\n",
    "# 回傳 e 的 4次冪\n",
    "print (\"The e**4 value is : \", end=\"\")\n",
    "print (math.exp(4))\n",
    "\n",
    "# 回傳 2,3 的對數\n",
    "print (\"The value of log 2 with base 3 is : \", end=\"\")\n",
    "print (math.log(2,3))\n"
   ]
  },
  {
   "cell_type": "markdown",
   "metadata": {
    "id": "83HobpGbXbYy"
   },
   "source": [
    "3. log2(a) :- 此函數回傳以2為底的對數. \n",
    "\n",
    "4. log10(a) :- 此函數回傳以10為底的對數."
   ]
  },
  {
   "cell_type": "code",
   "execution_count": 4,
   "metadata": {
    "colab": {
     "base_uri": "https://localhost:8080/"
    },
    "executionInfo": {
     "elapsed": 319,
     "status": "ok",
     "timestamp": 1635163867841,
     "user": {
      "displayName": "Paul Chen",
      "photoUrl": "https://lh3.googleusercontent.com/a/default-user=s64",
      "userId": "15113937160468943492"
     },
     "user_tz": -480
    },
    "id": "9LaZXSf8XHYS",
    "outputId": "61f6c21f-f893-4b31-f20b-e372609ddd60"
   },
   "outputs": [
    {
     "name": "stdout",
     "output_type": "stream",
     "text": [
      "The value of log2 of 16 is : 4.0\n",
      "The value of log10 of 10000 is : 4.0\n"
     ]
    }
   ],
   "source": [
    "# 以 Python 程式碼展示\n",
    "# log2() 和 log10()\n",
    "\n",
    "# 載入 \"math\" 數學程式庫\n",
    "import math\n",
    "\n",
    "# returning the log2 of 16\n",
    "print (\"The value of log2 of 16 is : \", end=\"\")\n",
    "print (math.log2(16))\n",
    "\n",
    "# returning the log10 of 10000\n",
    "print (\"The value of log10 of 10000 is : \", end=\"\")\n",
    "print (math.log10(10000))\n"
   ]
  },
  {
   "cell_type": "markdown",
   "metadata": {
    "id": "rXvGunyJXZdi"
   },
   "source": [
    "5. pow(a, b) :- 此函數用來計算 a 的 b 次方 (a**b).\n",
    "\n",
    "6. sqrt() :- 此函數回傳平方根值."
   ]
  },
  {
   "cell_type": "code",
   "execution_count": 5,
   "metadata": {
    "colab": {
     "base_uri": "https://localhost:8080/"
    },
    "executionInfo": {
     "elapsed": 322,
     "status": "ok",
     "timestamp": 1635163899123,
     "user": {
      "displayName": "Paul Chen",
      "photoUrl": "https://lh3.googleusercontent.com/a/default-user=s64",
      "userId": "15113937160468943492"
     },
     "user_tz": -480
    },
    "id": "TTB2OhQSXO3U",
    "outputId": "97ba3386-02b1-46a1-d79f-116bb16d1399"
   },
   "outputs": [
    {
     "name": "stdout",
     "output_type": "stream",
     "text": [
      "The value of 3 to the power 2 is : 9.0\n",
      "The value of square root of 25 : 5.0\n"
     ]
    }
   ],
   "source": [
    "# 以 Python 程式碼展示\n",
    "# pow() 和 sqrt()\n",
    "\n",
    "# 載入 \"math\" 數學程式庫\n",
    "import math\n",
    "\n",
    "# returning the value of 3**2\n",
    "print (\"The value of 3 to the power 2 is : \", end=\"\")\n",
    "print (math.pow(3,2))\n",
    "\n",
    "# returning the square root of 25\n",
    "print (\"The value of square root of 25 : \", end=\"\")\n",
    "print (math.sqrt(25))\n"
   ]
  },
  {
   "cell_type": "code",
   "execution_count": null,
   "metadata": {},
   "outputs": [],
   "source": []
  }
 ],
 "metadata": {
  "colab": {
   "authorship_tag": "ABX9TyPjcBamzwCAVowPRAGv2Up7",
   "name": "MathLogarithmicNPower_範例程式.ipynb",
   "provenance": []
  },
  "kernelspec": {
   "display_name": "Python 3 (ipykernel)",
   "language": "python",
   "name": "python3"
  },
  "language_info": {
   "codemirror_mode": {
    "name": "ipython",
    "version": 3
   },
   "file_extension": ".py",
   "mimetype": "text/x-python",
   "name": "python",
   "nbconvert_exporter": "python",
   "pygments_lexer": "ipython3",
   "version": "3.9.7"
  }
 },
 "nbformat": 4,
 "nbformat_minor": 1
}
