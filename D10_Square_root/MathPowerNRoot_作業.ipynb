{
 "cells": [
  {
   "cell_type": "markdown",
   "metadata": {
    "id": "rXvGunyJXZdi"
   },
   "source": [
    "以Python語言練習次方與方根函數.\n",
    "\n",
    "pow(a, b) :- 此函數用來計算 a 的 b 次方 (a**b).\n",
    "\n",
    "sqrt() :- 此函數回傳平方根值."
   ]
  },
  {
   "cell_type": "code",
   "execution_count": 1,
   "metadata": {
    "colab": {
     "base_uri": "https://localhost:8080/"
    },
    "executionInfo": {
     "elapsed": 10,
     "status": "ok",
     "timestamp": 1637989430645,
     "user": {
      "displayName": "Paul Chen",
      "photoUrl": "https://lh3.googleusercontent.com/a/default-user=s64",
      "userId": "15113937160468943492"
     },
     "user_tz": -480
    },
    "id": "TTB2OhQSXO3U",
    "outputId": "d9f573f7-706e-4c0d-bdc1-14013156aef9"
   },
   "outputs": [
    {
     "name": "stdout",
     "output_type": "stream",
     "text": [
      "The value of 4 to the power 3 is : 64.0\n",
      "The value of square root of 49 : 7.0\n"
     ]
    }
   ],
   "source": [
    "# 以 Python 程式碼展示\n",
    "# pow() 和 sqrt()\n",
    "\n",
    "# 載入 \"math\" 數學程式庫\n",
    "import math\n",
    "\n",
    "# returning the value of 4**3\n",
    "print (\"The value of 4 to the power 3 is : \", end=\"\")\n",
    "print (math.pow(4,3))\n",
    "\n",
    "# returning the square root of 49\n",
    "print (\"The value of square root of 49 : \", end=\"\")\n",
    "print (math.sqrt(49))\n"
   ]
  },
  {
   "cell_type": "code",
   "execution_count": null,
   "metadata": {},
   "outputs": [],
   "source": []
  }
 ],
 "metadata": {
  "colab": {
   "authorship_tag": "ABX9TyNZ3tAGNeoRe3PUsbllTpdn",
   "name": "MathPowerNRoot_作業.ipynb",
   "provenance": [
    {
     "file_id": "1eK8mjyPuXrKjfNenLtPODJUXRRizKiVB",
     "timestamp": 1637989471987
    },
    {
     "file_id": "1agGeSbQy092oBp5wObr3f3uqlHuCpTfW",
     "timestamp": 1637989190782
    },
    {
     "file_id": "1uh7JvNTrbe8hmYE9t5BsOBWmp0OM957R",
     "timestamp": 1637938964799
    }
   ]
  },
  "kernelspec": {
   "display_name": "Python 3 (ipykernel)",
   "language": "python",
   "name": "python3"
  },
  "language_info": {
   "codemirror_mode": {
    "name": "ipython",
    "version": 3
   },
   "file_extension": ".py",
   "mimetype": "text/x-python",
   "name": "python",
   "nbconvert_exporter": "python",
   "pygments_lexer": "ipython3",
   "version": "3.9.7"
  }
 },
 "nbformat": 4,
 "nbformat_minor": 1
}
